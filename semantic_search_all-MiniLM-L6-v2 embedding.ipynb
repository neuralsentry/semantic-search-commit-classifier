{
 "cells": [
  {
   "cell_type": "markdown",
   "metadata": {},
   "source": [
    "## 1. Semantic search with all-MiniLM-L6-v2 embedding"
   ]
  },
  {
   "cell_type": "code",
   "execution_count": 2,
   "metadata": {},
   "outputs": [],
   "source": [
    "from sentence_transformers import SentenceTransformer\n",
    "import chromadb\n",
    "import pandas as pd\n",
    "from tqdm import tqdm\n",
    "from rich import print\n",
    "from sklearn.metrics import confusion_matrix, accuracy_score, classification_report\n",
    "from sklearn.model_selection import train_test_split\n",
    "pd.options.mode.chained_assignment = None  # default='warn'"
   ]
  },
  {
   "cell_type": "markdown",
   "metadata": {},
   "source": [
    "### Preprocessing and splitting"
   ]
  },
  {
   "cell_type": "code",
   "execution_count": 20,
   "metadata": {},
   "outputs": [
    {
     "data": {
      "text/plain": [
       "((2330, 6), (6998, 8))"
      ]
     },
     "execution_count": 20,
     "metadata": {},
     "output_type": "execute_result"
    }
   ],
   "source": [
    "df = pd.read_csv('data/bigvul_devign_cvefixes_neuralsentry_commits.csv')\n",
    "df = df.drop_duplicates(subset=['commit_hash'],keep='first')\n",
    "df = df.dropna(subset=['commit_msg', 'commit_hash'])\n",
    "train_df, test_df = train_test_split(df, test_size=0.2, random_state=420)\n",
    "\n",
    "linux_test_df = pd.read_csv('data/linux_test.csv')\n",
    "vulnfix = linux_test_df[linux_test_df['labels'] == 1]\n",
    "non_vulnfix = linux_test_df[linux_test_df['labels'] == 0]\n",
    "linux_test_df = pd.concat([non_vulnfix, vulnfix])\n",
    "linux_test_df.shape, test_df.shape"
   ]
  },
  {
   "cell_type": "markdown",
   "metadata": {},
   "source": [
    "### Embed commit for train and test dataset"
   ]
  },
  {
   "cell_type": "code",
   "execution_count": 4,
   "metadata": {},
   "outputs": [
    {
     "name": "stderr",
     "output_type": "stream",
     "text": [
      "Generate embedding for train dataset: 100%|██████████| 27992/27992 [27:09<00:00, 17.18it/s]  \n"
     ]
    }
   ],
   "source": [
    "model = SentenceTransformer('all-MiniLM-L6-v2')\n",
    "\n",
    "def generate_embeddings(commit):\n",
    "  pbar.update()\n",
    "  return model.encode(commit).tolist()\n",
    "\n",
    "\n",
    "with tqdm(total=len(train_df), desc=\"Generate embedding for train dataset\") as pbar:\n",
    "  train_df['embedded_commit'] = train_df['commit_msg'].apply(lambda x: generate_embeddings(x))"
   ]
  },
  {
   "cell_type": "code",
   "execution_count": 5,
   "metadata": {},
   "outputs": [
    {
     "name": "stderr",
     "output_type": "stream",
     "text": [
      "Generate embedding for test dataset: 100%|██████████| 6998/6998 [09:06<00:00, 12.81it/s]\n",
      "Generate embedding for linux test dataset: 100%|██████████| 2330/2330 [05:29<00:00,  7.08it/s]\n"
     ]
    }
   ],
   "source": [
    "with tqdm(total=len(test_df), desc=\"Generate embedding for test dataset\") as pbar:\n",
    "  test_df['embedded_commit'] = test_df['commit_msg'].apply(lambda x: generate_embeddings(x))\n",
    "\n",
    "with tqdm(total=len(linux_test_df), desc=\"Generate embedding for linux test dataset\") as pbar:\n",
    "  linux_test_df['embedded_commit'] = linux_test_df['commit_msg'].apply(lambda x: generate_embeddings(x))"
   ]
  },
  {
   "cell_type": "markdown",
   "metadata": {},
   "source": [
    "### Feeding training data into ChromaDB"
   ]
  },
  {
   "cell_type": "code",
   "execution_count": 7,
   "metadata": {},
   "outputs": [],
   "source": [
    "train_embeddings = train_df['embedded_commit']\n",
    "train_labels = train_df['labels'].tolist()\n",
    "train_hash = train_df['commit_hash']\n",
    "\n",
    "client = chromadb.PersistentClient(path='db/all-MiniLM-L6-v2 embedding/')\n",
    "collection = client.create_collection(\"all-MiniLM-L6-v2_embedding\")\n",
    "\n",
    "collection.add(\n",
    "    embeddings=[embed for embed in train_embeddings],\n",
    "    metadatas=[{\"label\": str(train_labels[i])} for i in range(len(train_df))],\n",
    "    ids=[str(hashes) for hashes in train_hash]\n",
    ")\n"
   ]
  },
  {
   "cell_type": "markdown",
   "metadata": {},
   "source": [
    "### Prediction (BigVul, Devign, CVEfixes, NeuralSentry commits)"
   ]
  },
  {
   "cell_type": "code",
   "execution_count": 13,
   "metadata": {},
   "outputs": [
    {
     "data": {
      "text/html": [
       "<pre style=\"white-space:pre;overflow-x:auto;line-height:normal;font-family:Menlo,'DejaVu Sans Mono',consolas,'Courier New',monospace\"><span style=\"font-weight: bold\">{</span>\n",
       "    <span style=\"color: #008000; text-decoration-color: #008000\">'ids'</span>: <span style=\"font-weight: bold\">[[</span><span style=\"color: #008000; text-decoration-color: #008000\">'cdf1512ebac8b95afad3ec4352550f0f0240ce26'</span>, <span style=\"color: #008000; text-decoration-color: #008000\">'993092dcd3fb7ec84fdd1cd3b28a3973740b22bf'</span><span style=\"font-weight: bold\">]]</span>,\n",
       "    <span style=\"color: #008000; text-decoration-color: #008000\">'distances'</span>: <span style=\"font-weight: bold\">[[</span><span style=\"color: #008080; text-decoration-color: #008080; font-weight: bold\">0.34146153926849365</span>, <span style=\"color: #008080; text-decoration-color: #008080; font-weight: bold\">0.4003959894180298</span><span style=\"font-weight: bold\">]]</span>,\n",
       "    <span style=\"color: #008000; text-decoration-color: #008000\">'metadatas'</span>: <span style=\"font-weight: bold\">[[{</span><span style=\"color: #008000; text-decoration-color: #008000\">'label'</span>: <span style=\"color: #008000; text-decoration-color: #008000\">'0'</span><span style=\"font-weight: bold\">}</span>, <span style=\"font-weight: bold\">{</span><span style=\"color: #008000; text-decoration-color: #008000\">'label'</span>: <span style=\"color: #008000; text-decoration-color: #008000\">'0'</span><span style=\"font-weight: bold\">}]]</span>,\n",
       "    <span style=\"color: #008000; text-decoration-color: #008000\">'embeddings'</span>: <span style=\"color: #800080; text-decoration-color: #800080; font-style: italic\">None</span>,\n",
       "    <span style=\"color: #008000; text-decoration-color: #008000\">'documents'</span>: <span style=\"font-weight: bold\">[[</span><span style=\"color: #800080; text-decoration-color: #800080; font-style: italic\">None</span>, <span style=\"color: #800080; text-decoration-color: #800080; font-style: italic\">None</span><span style=\"font-weight: bold\">]]</span>\n",
       "<span style=\"font-weight: bold\">}</span>\n",
       "</pre>\n"
      ],
      "text/plain": [
       "\u001b[1m{\u001b[0m\n",
       "    \u001b[32m'ids'\u001b[0m: \u001b[1m[\u001b[0m\u001b[1m[\u001b[0m\u001b[32m'cdf1512ebac8b95afad3ec4352550f0f0240ce26'\u001b[0m, \u001b[32m'993092dcd3fb7ec84fdd1cd3b28a3973740b22bf'\u001b[0m\u001b[1m]\u001b[0m\u001b[1m]\u001b[0m,\n",
       "    \u001b[32m'distances'\u001b[0m: \u001b[1m[\u001b[0m\u001b[1m[\u001b[0m\u001b[1;36m0.34146153926849365\u001b[0m, \u001b[1;36m0.4003959894180298\u001b[0m\u001b[1m]\u001b[0m\u001b[1m]\u001b[0m,\n",
       "    \u001b[32m'metadatas'\u001b[0m: \u001b[1m[\u001b[0m\u001b[1m[\u001b[0m\u001b[1m{\u001b[0m\u001b[32m'label'\u001b[0m: \u001b[32m'0'\u001b[0m\u001b[1m}\u001b[0m, \u001b[1m{\u001b[0m\u001b[32m'label'\u001b[0m: \u001b[32m'0'\u001b[0m\u001b[1m}\u001b[0m\u001b[1m]\u001b[0m\u001b[1m]\u001b[0m,\n",
       "    \u001b[32m'embeddings'\u001b[0m: \u001b[3;35mNone\u001b[0m,\n",
       "    \u001b[32m'documents'\u001b[0m: \u001b[1m[\u001b[0m\u001b[1m[\u001b[0m\u001b[3;35mNone\u001b[0m, \u001b[3;35mNone\u001b[0m\u001b[1m]\u001b[0m\u001b[1m]\u001b[0m\n",
       "\u001b[1m}\u001b[0m\n"
      ]
     },
     "metadata": {},
     "output_type": "display_data"
    }
   ],
   "source": [
    "client = chromadb.PersistentClient(path='db/all-MiniLM-L6-v2 embedding/')\n",
    "collection = client.get_collection(name=\"all-MiniLM-L6-v2_embedding\")\n",
    "y_pred = []\n",
    "for index, row in test_df.iterrows():\n",
    "    query_result = collection.query(\n",
    "        query_embeddings=[ row['embedded_commit'] ],\n",
    "        n_results=2,\n",
    "    )\n",
    "    y_pred.append(query_result['metadatas'][0][0]['label'])\n",
    "\n",
    "print(query_result) # Last row of the test dataset\n",
    "y_pred = [int(x) for x in y_pred]"
   ]
  },
  {
   "cell_type": "markdown",
   "metadata": {},
   "source": [
    "### Generate Metrics for (BigVul, Devign, CVEfixes, NeuralSentry commits)"
   ]
  },
  {
   "cell_type": "code",
   "execution_count": 14,
   "metadata": {},
   "outputs": [
    {
     "data": {
      "text/html": [
       "<pre style=\"white-space:pre;overflow-x:auto;line-height:normal;font-family:Menlo,'DejaVu Sans Mono',consolas,'Courier New',monospace\">\n",
       "\n",
       "&gt;&gt;&gt; Confusion Matrix: \n",
       "TP: <span style=\"color: #008080; text-decoration-color: #008080; font-weight: bold\">2798</span>, FP: <span style=\"color: #008080; text-decoration-color: #008080; font-weight: bold\">919</span> \n",
       "FN: <span style=\"color: #008080; text-decoration-color: #008080; font-weight: bold\">757</span>, TN: <span style=\"color: #008080; text-decoration-color: #008080; font-weight: bold\">2524</span> \n",
       "\n",
       "&gt;&gt;&gt; Accuracy:  <span style=\"color: #008080; text-decoration-color: #008080; font-weight: bold\">0.7605030008573879</span> \n",
       "\n",
       "&gt;&gt;&gt;: Classification Report:\n",
       "               precision    recall  f1-score   support\n",
       "\n",
       "  non-bugfix       <span style=\"color: #008080; text-decoration-color: #008080; font-weight: bold\">0.77</span>      <span style=\"color: #008080; text-decoration-color: #008080; font-weight: bold\">0.73</span>      <span style=\"color: #008080; text-decoration-color: #008080; font-weight: bold\">0.75</span>      <span style=\"color: #008080; text-decoration-color: #008080; font-weight: bold\">3443</span>\n",
       "      bugfix       <span style=\"color: #008080; text-decoration-color: #008080; font-weight: bold\">0.75</span>      <span style=\"color: #008080; text-decoration-color: #008080; font-weight: bold\">0.79</span>      <span style=\"color: #008080; text-decoration-color: #008080; font-weight: bold\">0.77</span>      <span style=\"color: #008080; text-decoration-color: #008080; font-weight: bold\">3555</span>\n",
       "\n",
       "    accuracy                           <span style=\"color: #008080; text-decoration-color: #008080; font-weight: bold\">0.76</span>      <span style=\"color: #008080; text-decoration-color: #008080; font-weight: bold\">6998</span>\n",
       "   macro avg       <span style=\"color: #008080; text-decoration-color: #008080; font-weight: bold\">0.76</span>      <span style=\"color: #008080; text-decoration-color: #008080; font-weight: bold\">0.76</span>      <span style=\"color: #008080; text-decoration-color: #008080; font-weight: bold\">0.76</span>      <span style=\"color: #008080; text-decoration-color: #008080; font-weight: bold\">6998</span>\n",
       "weighted avg       <span style=\"color: #008080; text-decoration-color: #008080; font-weight: bold\">0.76</span>      <span style=\"color: #008080; text-decoration-color: #008080; font-weight: bold\">0.76</span>      <span style=\"color: #008080; text-decoration-color: #008080; font-weight: bold\">0.76</span>      <span style=\"color: #008080; text-decoration-color: #008080; font-weight: bold\">6998</span>\n",
       "\n",
       "</pre>\n"
      ],
      "text/plain": [
       "\n",
       "\n",
       ">>> Confusion Matrix: \n",
       "TP: \u001b[1;36m2798\u001b[0m, FP: \u001b[1;36m919\u001b[0m \n",
       "FN: \u001b[1;36m757\u001b[0m, TN: \u001b[1;36m2524\u001b[0m \n",
       "\n",
       ">>> Accuracy:  \u001b[1;36m0.7605030008573879\u001b[0m \n",
       "\n",
       ">>>: Classification Report:\n",
       "               precision    recall  f1-score   support\n",
       "\n",
       "  non-bugfix       \u001b[1;36m0.77\u001b[0m      \u001b[1;36m0.73\u001b[0m      \u001b[1;36m0.75\u001b[0m      \u001b[1;36m3443\u001b[0m\n",
       "      bugfix       \u001b[1;36m0.75\u001b[0m      \u001b[1;36m0.79\u001b[0m      \u001b[1;36m0.77\u001b[0m      \u001b[1;36m3555\u001b[0m\n",
       "\n",
       "    accuracy                           \u001b[1;36m0.76\u001b[0m      \u001b[1;36m6998\u001b[0m\n",
       "   macro avg       \u001b[1;36m0.76\u001b[0m      \u001b[1;36m0.76\u001b[0m      \u001b[1;36m0.76\u001b[0m      \u001b[1;36m6998\u001b[0m\n",
       "weighted avg       \u001b[1;36m0.76\u001b[0m      \u001b[1;36m0.76\u001b[0m      \u001b[1;36m0.76\u001b[0m      \u001b[1;36m6998\u001b[0m\n",
       "\n"
      ]
     },
     "metadata": {},
     "output_type": "display_data"
    }
   ],
   "source": [
    "y_test = test_df['labels'].tolist()\n",
    "report = classification_report(y_test,y_pred,target_names=[\"non-bugfix\", \"bugfix\"],)\n",
    "confusion_matrix_metric = confusion_matrix(y_test,y_pred)\n",
    "accuracy_metric = accuracy_score(y_test, y_pred)\n",
    "print(  \"\\n\\n>>> Confusion Matrix:\",\n",
    "  f\"\\nTP: {confusion_matrix_metric[1][1]}, FP: {confusion_matrix_metric[0][1]}\",\n",
    "  f\"\\nFN: {confusion_matrix_metric[1][0]}, TN: {confusion_matrix_metric[0][0]}\",\n",
    "  \"\\n\\n>>> Accuracy: \",\n",
    "  accuracy_metric,\n",
    "  \"\\n\\n>>>: Classification Report:\\n\",\n",
    "  report)"
   ]
  },
  {
   "cell_type": "markdown",
   "metadata": {},
   "source": [
    "### Prediction (Linux CVEs)"
   ]
  },
  {
   "cell_type": "code",
   "execution_count": 15,
   "metadata": {},
   "outputs": [
    {
     "data": {
      "text/html": [
       "<pre style=\"white-space:pre;overflow-x:auto;line-height:normal;font-family:Menlo,'DejaVu Sans Mono',consolas,'Courier New',monospace\"><span style=\"font-weight: bold\">{</span>\n",
       "    <span style=\"color: #008000; text-decoration-color: #008000\">'ids'</span>: <span style=\"font-weight: bold\">[[</span><span style=\"color: #008000; text-decoration-color: #008000\">'9903e41ae1f5d50c93f268ca3304d4d7c64b9311'</span>, <span style=\"color: #008000; text-decoration-color: #008000\">'822d15ded8887742ea7ea4ddbfcfebb443813dd3'</span><span style=\"font-weight: bold\">]]</span>,\n",
       "    <span style=\"color: #008000; text-decoration-color: #008000\">'distances'</span>: <span style=\"font-weight: bold\">[[</span><span style=\"color: #008080; text-decoration-color: #008080; font-weight: bold\">0.8187517523765564</span>, <span style=\"color: #008080; text-decoration-color: #008080; font-weight: bold\">0.8839223384857178</span><span style=\"font-weight: bold\">]]</span>,\n",
       "    <span style=\"color: #008000; text-decoration-color: #008000\">'metadatas'</span>: <span style=\"font-weight: bold\">[[{</span><span style=\"color: #008000; text-decoration-color: #008000\">'label'</span>: <span style=\"color: #008000; text-decoration-color: #008000\">'1'</span><span style=\"font-weight: bold\">}</span>, <span style=\"font-weight: bold\">{</span><span style=\"color: #008000; text-decoration-color: #008000\">'label'</span>: <span style=\"color: #008000; text-decoration-color: #008000\">'1'</span><span style=\"font-weight: bold\">}]]</span>,\n",
       "    <span style=\"color: #008000; text-decoration-color: #008000\">'embeddings'</span>: <span style=\"color: #800080; text-decoration-color: #800080; font-style: italic\">None</span>,\n",
       "    <span style=\"color: #008000; text-decoration-color: #008000\">'documents'</span>: <span style=\"font-weight: bold\">[[</span><span style=\"color: #800080; text-decoration-color: #800080; font-style: italic\">None</span>, <span style=\"color: #800080; text-decoration-color: #800080; font-style: italic\">None</span><span style=\"font-weight: bold\">]]</span>\n",
       "<span style=\"font-weight: bold\">}</span>\n",
       "</pre>\n"
      ],
      "text/plain": [
       "\u001b[1m{\u001b[0m\n",
       "    \u001b[32m'ids'\u001b[0m: \u001b[1m[\u001b[0m\u001b[1m[\u001b[0m\u001b[32m'9903e41ae1f5d50c93f268ca3304d4d7c64b9311'\u001b[0m, \u001b[32m'822d15ded8887742ea7ea4ddbfcfebb443813dd3'\u001b[0m\u001b[1m]\u001b[0m\u001b[1m]\u001b[0m,\n",
       "    \u001b[32m'distances'\u001b[0m: \u001b[1m[\u001b[0m\u001b[1m[\u001b[0m\u001b[1;36m0.8187517523765564\u001b[0m, \u001b[1;36m0.8839223384857178\u001b[0m\u001b[1m]\u001b[0m\u001b[1m]\u001b[0m,\n",
       "    \u001b[32m'metadatas'\u001b[0m: \u001b[1m[\u001b[0m\u001b[1m[\u001b[0m\u001b[1m{\u001b[0m\u001b[32m'label'\u001b[0m: \u001b[32m'1'\u001b[0m\u001b[1m}\u001b[0m, \u001b[1m{\u001b[0m\u001b[32m'label'\u001b[0m: \u001b[32m'1'\u001b[0m\u001b[1m}\u001b[0m\u001b[1m]\u001b[0m\u001b[1m]\u001b[0m,\n",
       "    \u001b[32m'embeddings'\u001b[0m: \u001b[3;35mNone\u001b[0m,\n",
       "    \u001b[32m'documents'\u001b[0m: \u001b[1m[\u001b[0m\u001b[1m[\u001b[0m\u001b[3;35mNone\u001b[0m, \u001b[3;35mNone\u001b[0m\u001b[1m]\u001b[0m\u001b[1m]\u001b[0m\n",
       "\u001b[1m}\u001b[0m\n"
      ]
     },
     "metadata": {},
     "output_type": "display_data"
    }
   ],
   "source": [
    "client = chromadb.PersistentClient(path='db/all-MiniLM-L6-v2 embedding/')\n",
    "collection = client.get_collection(name=\"all-MiniLM-L6-v2_embedding\")\n",
    "y_pred = []\n",
    "for index, row in linux_test_df.iterrows():\n",
    "    query_result = collection.query(\n",
    "        query_embeddings=[ row['embedded_commit'] ],\n",
    "        n_results=2,\n",
    "    )\n",
    "    y_pred.append(query_result['metadatas'][0][0]['label'])\n",
    "\n",
    "print(query_result) # Last row of the test dataset\n",
    "y_pred = [int(x) for x in y_pred]"
   ]
  },
  {
   "cell_type": "markdown",
   "metadata": {},
   "source": [
    "### Generate Metrics for (Linux CVEs)"
   ]
  },
  {
   "cell_type": "code",
   "execution_count": 16,
   "metadata": {},
   "outputs": [
    {
     "data": {
      "text/html": [
       "<pre style=\"white-space:pre;overflow-x:auto;line-height:normal;font-family:Menlo,'DejaVu Sans Mono',consolas,'Courier New',monospace\">\n",
       "\n",
       "&gt;&gt;&gt; Confusion Matrix: \n",
       "TP: <span style=\"color: #008080; text-decoration-color: #008080; font-weight: bold\">1636</span>, FP: <span style=\"color: #008080; text-decoration-color: #008080; font-weight: bold\">197</span> \n",
       "FN: <span style=\"color: #008080; text-decoration-color: #008080; font-weight: bold\">191</span>, TN: <span style=\"color: #008080; text-decoration-color: #008080; font-weight: bold\">306</span> \n",
       "\n",
       "&gt;&gt;&gt; Accuracy:  <span style=\"color: #008080; text-decoration-color: #008080; font-weight: bold\">0.8334763948497854</span> \n",
       "\n",
       "&gt;&gt;&gt;: Classification Report:\n",
       "               precision    recall  f1-score   support\n",
       "\n",
       "  non-bugfix       <span style=\"color: #008080; text-decoration-color: #008080; font-weight: bold\">0.62</span>      <span style=\"color: #008080; text-decoration-color: #008080; font-weight: bold\">0.61</span>      <span style=\"color: #008080; text-decoration-color: #008080; font-weight: bold\">0.61</span>       <span style=\"color: #008080; text-decoration-color: #008080; font-weight: bold\">503</span>\n",
       "      bugfix       <span style=\"color: #008080; text-decoration-color: #008080; font-weight: bold\">0.89</span>      <span style=\"color: #008080; text-decoration-color: #008080; font-weight: bold\">0.90</span>      <span style=\"color: #008080; text-decoration-color: #008080; font-weight: bold\">0.89</span>      <span style=\"color: #008080; text-decoration-color: #008080; font-weight: bold\">1827</span>\n",
       "\n",
       "    accuracy                           <span style=\"color: #008080; text-decoration-color: #008080; font-weight: bold\">0.83</span>      <span style=\"color: #008080; text-decoration-color: #008080; font-weight: bold\">2330</span>\n",
       "   macro avg       <span style=\"color: #008080; text-decoration-color: #008080; font-weight: bold\">0.75</span>      <span style=\"color: #008080; text-decoration-color: #008080; font-weight: bold\">0.75</span>      <span style=\"color: #008080; text-decoration-color: #008080; font-weight: bold\">0.75</span>      <span style=\"color: #008080; text-decoration-color: #008080; font-weight: bold\">2330</span>\n",
       "weighted avg       <span style=\"color: #008080; text-decoration-color: #008080; font-weight: bold\">0.83</span>      <span style=\"color: #008080; text-decoration-color: #008080; font-weight: bold\">0.83</span>      <span style=\"color: #008080; text-decoration-color: #008080; font-weight: bold\">0.83</span>      <span style=\"color: #008080; text-decoration-color: #008080; font-weight: bold\">2330</span>\n",
       "\n",
       "</pre>\n"
      ],
      "text/plain": [
       "\n",
       "\n",
       ">>> Confusion Matrix: \n",
       "TP: \u001b[1;36m1636\u001b[0m, FP: \u001b[1;36m197\u001b[0m \n",
       "FN: \u001b[1;36m191\u001b[0m, TN: \u001b[1;36m306\u001b[0m \n",
       "\n",
       ">>> Accuracy:  \u001b[1;36m0.8334763948497854\u001b[0m \n",
       "\n",
       ">>>: Classification Report:\n",
       "               precision    recall  f1-score   support\n",
       "\n",
       "  non-bugfix       \u001b[1;36m0.62\u001b[0m      \u001b[1;36m0.61\u001b[0m      \u001b[1;36m0.61\u001b[0m       \u001b[1;36m503\u001b[0m\n",
       "      bugfix       \u001b[1;36m0.89\u001b[0m      \u001b[1;36m0.90\u001b[0m      \u001b[1;36m0.89\u001b[0m      \u001b[1;36m1827\u001b[0m\n",
       "\n",
       "    accuracy                           \u001b[1;36m0.83\u001b[0m      \u001b[1;36m2330\u001b[0m\n",
       "   macro avg       \u001b[1;36m0.75\u001b[0m      \u001b[1;36m0.75\u001b[0m      \u001b[1;36m0.75\u001b[0m      \u001b[1;36m2330\u001b[0m\n",
       "weighted avg       \u001b[1;36m0.83\u001b[0m      \u001b[1;36m0.83\u001b[0m      \u001b[1;36m0.83\u001b[0m      \u001b[1;36m2330\u001b[0m\n",
       "\n"
      ]
     },
     "metadata": {},
     "output_type": "display_data"
    }
   ],
   "source": [
    "y_test = linux_test_df['labels'].tolist()\n",
    "report = classification_report(y_test,y_pred,target_names=[\"non-bugfix\", \"bugfix\"],)\n",
    "confusion_matrix_metric = confusion_matrix(y_test,y_pred)\n",
    "accuracy_metric = accuracy_score(y_test, y_pred)\n",
    "print(  \"\\n\\n>>> Confusion Matrix:\",\n",
    "  f\"\\nTP: {confusion_matrix_metric[1][1]}, FP: {confusion_matrix_metric[0][1]}\",\n",
    "  f\"\\nFN: {confusion_matrix_metric[1][0]}, TN: {confusion_matrix_metric[0][0]}\",\n",
    "  \"\\n\\n>>> Accuracy: \",\n",
    "  accuracy_metric,\n",
    "  \"\\n\\n>>>: Classification Report:\\n\",\n",
    "  report)"
   ]
  }
 ],
 "metadata": {
  "kernelspec": {
   "display_name": "venv",
   "language": "python",
   "name": "python3"
  },
  "language_info": {
   "codemirror_mode": {
    "name": "ipython",
    "version": 3
   },
   "file_extension": ".py",
   "mimetype": "text/x-python",
   "name": "python",
   "nbconvert_exporter": "python",
   "pygments_lexer": "ipython3",
   "version": "3.10.0"
  },
  "orig_nbformat": 4
 },
 "nbformat": 4,
 "nbformat_minor": 2
}
