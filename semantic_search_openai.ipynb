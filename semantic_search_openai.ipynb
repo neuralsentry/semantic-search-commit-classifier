{
 "cells": [
  {
   "cell_type": "markdown",
   "metadata": {},
   "source": [
    "## 2. Semantic search with OpenAI embedding"
   ]
  },
  {
   "cell_type": "markdown",
   "metadata": {},
   "source": [
    "### Loading libraries"
   ]
  },
  {
   "cell_type": "code",
   "execution_count": 23,
   "metadata": {},
   "outputs": [],
   "source": [
    "from sentence_transformers import SentenceTransformer\n",
    "import chromadb\n",
    "import pandas as pd\n",
    "from tqdm import tqdm\n",
    "from rich import print\n",
    "from sklearn.metrics import confusion_matrix, accuracy_score, classification_report\n",
    "from sklearn.model_selection import train_test_split\n",
    "pd.options.mode.chained_assignment = None  # default='warn'\n",
    "\n",
    "import os\n",
    "from dotenv import load_dotenv\n",
    "import openai\n",
    "\n",
    "load_dotenv()\n",
    "openai.api_key = os.getenv('OPENAI_API_KEY')"
   ]
  },
  {
   "cell_type": "markdown",
   "metadata": {},
   "source": [
    "### Preprocessing and Splitting"
   ]
  },
  {
   "cell_type": "code",
   "execution_count": 24,
   "metadata": {},
   "outputs": [],
   "source": [
    "df = pd.read_csv('data/bigvul_devign_cvefixes_neuralsentry_commits.csv')\n",
    "df = df.drop_duplicates(subset=['commit_hash'],keep='first')\n",
    "df = df.dropna(subset=['commit_msg', 'commit_hash'])\n",
    "openai_train_df, openai_test_df = train_test_split(df, test_size=0.2, random_state=420)"
   ]
  },
  {
   "cell_type": "code",
   "execution_count": 25,
   "metadata": {},
   "outputs": [
    {
     "data": {
      "text/plain": [
       "(2330, 6)"
      ]
     },
     "execution_count": 25,
     "metadata": {},
     "output_type": "execute_result"
    }
   ],
   "source": [
    "openai_linux_test_df = pd.read_csv('data/linux_test.csv')\n",
    "linux_test_df = pd.read_csv('data/linux_test.csv')\n",
    "vulnfix = linux_test_df[linux_test_df['labels'] == 1]\n",
    "non_vulnfix = linux_test_df[linux_test_df['labels'] == 0]\n",
    "openai_linux_test_df = pd.concat([non_vulnfix, vulnfix])\n",
    "openai_linux_test_df['commit_msg'] = openai_linux_test_df['commit_msg'].apply(lambda x: x[:10000])\n",
    "openai_linux_test_df.shape"
   ]
  },
  {
   "cell_type": "code",
   "execution_count": 27,
   "metadata": {},
   "outputs": [
    {
     "name": "stderr",
     "output_type": "stream",
     "text": [
      "Generate embedding for train dataset: 100%|██████████| 27992/27992 [2:53:07<00:00,  2.69it/s]  \n"
     ]
    }
   ],
   "source": [
    "def generate_embeddings(commit, model=\"text-embedding-ada-002\"):\n",
    "   pbar.update()\n",
    "   return openai.Embedding.create(input = [commit], model=model)['data'][0]['embedding']\n",
    "\n",
    "# openai_train_df = pd.read_csv('data/train.csv')\n",
    "with tqdm(total=len(openai_train_df), desc=\"Generate embedding for train dataset\") as pbar:\n",
    "  openai_train_df['embedded_commit'] = openai_train_df['commit_msg'].apply(lambda x: generate_embeddings(x))"
   ]
  },
  {
   "cell_type": "code",
   "execution_count": 34,
   "metadata": {},
   "outputs": [
    {
     "name": "stderr",
     "output_type": "stream",
     "text": [
      "Generate embedding for test dataset: 100%|██████████| 6998/6998 [43:05<00:00,  2.71it/s]  \n",
      "Generate embedding for linux test dataset: 100%|██████████| 2330/2330 [14:32<00:00,  2.67it/s]\n"
     ]
    }
   ],
   "source": [
    "with tqdm(total=len(openai_test_df), desc=\"Generate embedding for test dataset\") as pbar:\n",
    "  openai_test_df['embedded_commit'] = openai_test_df['commit_msg'].apply(lambda x: generate_embeddings(x))\n",
    "\n",
    "\n",
    "with tqdm(total=len(openai_linux_test_df), desc=\"Generate embedding for linux test dataset\") as pbar:\n",
    "  openai_linux_test_df['embedded_commit'] = openai_linux_test_df['commit_msg'].apply(lambda x: generate_embeddings(x))"
   ]
  },
  {
   "cell_type": "markdown",
   "metadata": {},
   "source": [
    "### Feeding training data into ChromaDB"
   ]
  },
  {
   "cell_type": "code",
   "execution_count": 33,
   "metadata": {},
   "outputs": [],
   "source": [
    "openai_train_embeddings = openai_train_df['embedded_commit']\n",
    "openai_train_labels = openai_train_df['labels'].tolist()\n",
    "openai_train_hash = openai_train_df['commit_hash']\n",
    "\n",
    "client = chromadb.PersistentClient(path='db/text-embedding-ada-002 embedding/')\n",
    "collection = client.get_or_create_collection(\"text-embedding-ada-002_embedding\")\n",
    "\n",
    "collection.add(\n",
    "    embeddings=[embed for embed in openai_train_embeddings],\n",
    "    metadatas=[{\"label\": str(openai_train_labels[i])} for i in range(len(openai_train_df))],\n",
    "    ids=[str(hashes) for hashes in openai_train_hash]\n",
    ")"
   ]
  },
  {
   "cell_type": "markdown",
   "metadata": {},
   "source": [
    "### Prediction (BigVul, Devign, CVEfixes, NeuralSentry commits)"
   ]
  },
  {
   "cell_type": "code",
   "execution_count": 35,
   "metadata": {},
   "outputs": [
    {
     "data": {
      "text/html": [
       "<pre style=\"white-space:pre;overflow-x:auto;line-height:normal;font-family:Menlo,'DejaVu Sans Mono',consolas,'Courier New',monospace\"><span style=\"font-weight: bold\">{</span>\n",
       "    <span style=\"color: #008000; text-decoration-color: #008000\">'ids'</span>: <span style=\"font-weight: bold\">[[</span><span style=\"color: #008000; text-decoration-color: #008000\">'cdf1512ebac8b95afad3ec4352550f0f0240ce26'</span>, <span style=\"color: #008000; text-decoration-color: #008000\">'96651e790cbaf5f0002e02f81606658198d07d18'</span><span style=\"font-weight: bold\">]]</span>,\n",
       "    <span style=\"color: #008000; text-decoration-color: #008000\">'distances'</span>: <span style=\"font-weight: bold\">[[</span><span style=\"color: #008080; text-decoration-color: #008080; font-weight: bold\">0.1971931904554367</span>, <span style=\"color: #008080; text-decoration-color: #008080; font-weight: bold\">0.21474294364452362</span><span style=\"font-weight: bold\">]]</span>,\n",
       "    <span style=\"color: #008000; text-decoration-color: #008000\">'metadatas'</span>: <span style=\"font-weight: bold\">[[{</span><span style=\"color: #008000; text-decoration-color: #008000\">'label'</span>: <span style=\"color: #008000; text-decoration-color: #008000\">'0'</span><span style=\"font-weight: bold\">}</span>, <span style=\"font-weight: bold\">{</span><span style=\"color: #008000; text-decoration-color: #008000\">'label'</span>: <span style=\"color: #008000; text-decoration-color: #008000\">'0'</span><span style=\"font-weight: bold\">}]]</span>,\n",
       "    <span style=\"color: #008000; text-decoration-color: #008000\">'embeddings'</span>: <span style=\"color: #800080; text-decoration-color: #800080; font-style: italic\">None</span>,\n",
       "    <span style=\"color: #008000; text-decoration-color: #008000\">'documents'</span>: <span style=\"font-weight: bold\">[[</span><span style=\"color: #800080; text-decoration-color: #800080; font-style: italic\">None</span>, <span style=\"color: #800080; text-decoration-color: #800080; font-style: italic\">None</span><span style=\"font-weight: bold\">]]</span>\n",
       "<span style=\"font-weight: bold\">}</span>\n",
       "</pre>\n"
      ],
      "text/plain": [
       "\u001b[1m{\u001b[0m\n",
       "    \u001b[32m'ids'\u001b[0m: \u001b[1m[\u001b[0m\u001b[1m[\u001b[0m\u001b[32m'cdf1512ebac8b95afad3ec4352550f0f0240ce26'\u001b[0m, \u001b[32m'96651e790cbaf5f0002e02f81606658198d07d18'\u001b[0m\u001b[1m]\u001b[0m\u001b[1m]\u001b[0m,\n",
       "    \u001b[32m'distances'\u001b[0m: \u001b[1m[\u001b[0m\u001b[1m[\u001b[0m\u001b[1;36m0.1971931904554367\u001b[0m, \u001b[1;36m0.21474294364452362\u001b[0m\u001b[1m]\u001b[0m\u001b[1m]\u001b[0m,\n",
       "    \u001b[32m'metadatas'\u001b[0m: \u001b[1m[\u001b[0m\u001b[1m[\u001b[0m\u001b[1m{\u001b[0m\u001b[32m'label'\u001b[0m: \u001b[32m'0'\u001b[0m\u001b[1m}\u001b[0m, \u001b[1m{\u001b[0m\u001b[32m'label'\u001b[0m: \u001b[32m'0'\u001b[0m\u001b[1m}\u001b[0m\u001b[1m]\u001b[0m\u001b[1m]\u001b[0m,\n",
       "    \u001b[32m'embeddings'\u001b[0m: \u001b[3;35mNone\u001b[0m,\n",
       "    \u001b[32m'documents'\u001b[0m: \u001b[1m[\u001b[0m\u001b[1m[\u001b[0m\u001b[3;35mNone\u001b[0m, \u001b[3;35mNone\u001b[0m\u001b[1m]\u001b[0m\u001b[1m]\u001b[0m\n",
       "\u001b[1m}\u001b[0m\n"
      ]
     },
     "metadata": {},
     "output_type": "display_data"
    }
   ],
   "source": [
    "client = chromadb.PersistentClient(path='db/text-embedding-ada-002 embedding/')\n",
    "collection = client.get_collection(\"text-embedding-ada-002_embedding\")\n",
    "\n",
    "pred_labels = []\n",
    "for index, row in openai_test_df.iterrows():\n",
    "    query_result = collection.query(\n",
    "        query_embeddings=[ row['embedded_commit'] ],\n",
    "        n_results=2,\n",
    "    )\n",
    "    pred_labels.append(query_result['metadatas'][0][0]['label'])\n",
    "\n",
    "print(query_result)\n",
    "pred_labels = [int(x) for x in pred_labels]"
   ]
  },
  {
   "cell_type": "markdown",
   "metadata": {},
   "source": [
    "### Generate Metrics for (BigVul, Devign, CVEfixes, NeuralSentry commits)"
   ]
  },
  {
   "cell_type": "code",
   "execution_count": 36,
   "metadata": {},
   "outputs": [
    {
     "data": {
      "text/html": [
       "<pre style=\"white-space:pre;overflow-x:auto;line-height:normal;font-family:Menlo,'DejaVu Sans Mono',consolas,'Courier New',monospace\">\n",
       "\n",
       "&gt;&gt;&gt; Confusion Matrix: \n",
       "TP: <span style=\"color: #008080; text-decoration-color: #008080; font-weight: bold\">2888</span>, FP: <span style=\"color: #008080; text-decoration-color: #008080; font-weight: bold\">890</span> \n",
       "FN: <span style=\"color: #008080; text-decoration-color: #008080; font-weight: bold\">667</span>, TN: <span style=\"color: #008080; text-decoration-color: #008080; font-weight: bold\">2553</span> \n",
       "\n",
       "&gt;&gt;&gt; Accuracy:  <span style=\"color: #008080; text-decoration-color: #008080; font-weight: bold\">0.7775078593883967</span> \n",
       "\n",
       "&gt;&gt;&gt;: Classification Report:\n",
       "               precision    recall  f1-score   support\n",
       "\n",
       "  non-bugfix       <span style=\"color: #008080; text-decoration-color: #008080; font-weight: bold\">0.79</span>      <span style=\"color: #008080; text-decoration-color: #008080; font-weight: bold\">0.74</span>      <span style=\"color: #008080; text-decoration-color: #008080; font-weight: bold\">0.77</span>      <span style=\"color: #008080; text-decoration-color: #008080; font-weight: bold\">3443</span>\n",
       "      bugfix       <span style=\"color: #008080; text-decoration-color: #008080; font-weight: bold\">0.76</span>      <span style=\"color: #008080; text-decoration-color: #008080; font-weight: bold\">0.81</span>      <span style=\"color: #008080; text-decoration-color: #008080; font-weight: bold\">0.79</span>      <span style=\"color: #008080; text-decoration-color: #008080; font-weight: bold\">3555</span>\n",
       "\n",
       "    accuracy                           <span style=\"color: #008080; text-decoration-color: #008080; font-weight: bold\">0.78</span>      <span style=\"color: #008080; text-decoration-color: #008080; font-weight: bold\">6998</span>\n",
       "   macro avg       <span style=\"color: #008080; text-decoration-color: #008080; font-weight: bold\">0.78</span>      <span style=\"color: #008080; text-decoration-color: #008080; font-weight: bold\">0.78</span>      <span style=\"color: #008080; text-decoration-color: #008080; font-weight: bold\">0.78</span>      <span style=\"color: #008080; text-decoration-color: #008080; font-weight: bold\">6998</span>\n",
       "weighted avg       <span style=\"color: #008080; text-decoration-color: #008080; font-weight: bold\">0.78</span>      <span style=\"color: #008080; text-decoration-color: #008080; font-weight: bold\">0.78</span>      <span style=\"color: #008080; text-decoration-color: #008080; font-weight: bold\">0.78</span>      <span style=\"color: #008080; text-decoration-color: #008080; font-weight: bold\">6998</span>\n",
       "\n",
       "</pre>\n"
      ],
      "text/plain": [
       "\n",
       "\n",
       ">>> Confusion Matrix: \n",
       "TP: \u001b[1;36m2888\u001b[0m, FP: \u001b[1;36m890\u001b[0m \n",
       "FN: \u001b[1;36m667\u001b[0m, TN: \u001b[1;36m2553\u001b[0m \n",
       "\n",
       ">>> Accuracy:  \u001b[1;36m0.7775078593883967\u001b[0m \n",
       "\n",
       ">>>: Classification Report:\n",
       "               precision    recall  f1-score   support\n",
       "\n",
       "  non-bugfix       \u001b[1;36m0.79\u001b[0m      \u001b[1;36m0.74\u001b[0m      \u001b[1;36m0.77\u001b[0m      \u001b[1;36m3443\u001b[0m\n",
       "      bugfix       \u001b[1;36m0.76\u001b[0m      \u001b[1;36m0.81\u001b[0m      \u001b[1;36m0.79\u001b[0m      \u001b[1;36m3555\u001b[0m\n",
       "\n",
       "    accuracy                           \u001b[1;36m0.78\u001b[0m      \u001b[1;36m6998\u001b[0m\n",
       "   macro avg       \u001b[1;36m0.78\u001b[0m      \u001b[1;36m0.78\u001b[0m      \u001b[1;36m0.78\u001b[0m      \u001b[1;36m6998\u001b[0m\n",
       "weighted avg       \u001b[1;36m0.78\u001b[0m      \u001b[1;36m0.78\u001b[0m      \u001b[1;36m0.78\u001b[0m      \u001b[1;36m6998\u001b[0m\n",
       "\n"
      ]
     },
     "metadata": {},
     "output_type": "display_data"
    }
   ],
   "source": [
    "test_labels = openai_test_df['labels'].tolist()\n",
    "report = classification_report(test_labels,pred_labels,target_names=[\"non-bugfix\", \"bugfix\"],)\n",
    "confusion_matrix_metric = confusion_matrix(test_labels,pred_labels)\n",
    "accuracy_metric = accuracy_score(test_labels, pred_labels)\n",
    "print(  \"\\n\\n>>> Confusion Matrix:\",\n",
    "  f\"\\nTP: {confusion_matrix_metric[1][1]}, FP: {confusion_matrix_metric[0][1]}\",\n",
    "  f\"\\nFN: {confusion_matrix_metric[1][0]}, TN: {confusion_matrix_metric[0][0]}\",\n",
    "  \"\\n\\n>>> Accuracy: \",\n",
    "  accuracy_metric,\n",
    "  \"\\n\\n>>>: Classification Report:\\n\",\n",
    "  report)"
   ]
  },
  {
   "cell_type": "markdown",
   "metadata": {},
   "source": [
    "### Prediction (Linux CVEs)"
   ]
  },
  {
   "cell_type": "code",
   "execution_count": 37,
   "metadata": {},
   "outputs": [
    {
     "data": {
      "text/html": [
       "<pre style=\"white-space:pre;overflow-x:auto;line-height:normal;font-family:Menlo,'DejaVu Sans Mono',consolas,'Courier New',monospace\"><span style=\"font-weight: bold\">{</span>\n",
       "    <span style=\"color: #008000; text-decoration-color: #008000\">'ids'</span>: <span style=\"font-weight: bold\">[[</span><span style=\"color: #008000; text-decoration-color: #008000\">'8dca4a41f1ad65043a78c2338d9725f859c8d2c3'</span>, <span style=\"color: #008000; text-decoration-color: #008000\">'f999c0de05103ccd91b3efff282eaa1c0ea93015'</span><span style=\"font-weight: bold\">]]</span>,\n",
       "    <span style=\"color: #008000; text-decoration-color: #008000\">'distances'</span>: <span style=\"font-weight: bold\">[[</span><span style=\"color: #008080; text-decoration-color: #008080; font-weight: bold\">0.3685767650604248</span>, <span style=\"color: #008080; text-decoration-color: #008080; font-weight: bold\">0.37516769766807556</span><span style=\"font-weight: bold\">]]</span>,\n",
       "    <span style=\"color: #008000; text-decoration-color: #008000\">'metadatas'</span>: <span style=\"font-weight: bold\">[[{</span><span style=\"color: #008000; text-decoration-color: #008000\">'label'</span>: <span style=\"color: #008000; text-decoration-color: #008000\">'1'</span><span style=\"font-weight: bold\">}</span>, <span style=\"font-weight: bold\">{</span><span style=\"color: #008000; text-decoration-color: #008000\">'label'</span>: <span style=\"color: #008000; text-decoration-color: #008000\">'0'</span><span style=\"font-weight: bold\">}]]</span>,\n",
       "    <span style=\"color: #008000; text-decoration-color: #008000\">'embeddings'</span>: <span style=\"color: #800080; text-decoration-color: #800080; font-style: italic\">None</span>,\n",
       "    <span style=\"color: #008000; text-decoration-color: #008000\">'documents'</span>: <span style=\"font-weight: bold\">[[</span><span style=\"color: #800080; text-decoration-color: #800080; font-style: italic\">None</span>, <span style=\"color: #800080; text-decoration-color: #800080; font-style: italic\">None</span><span style=\"font-weight: bold\">]]</span>\n",
       "<span style=\"font-weight: bold\">}</span>\n",
       "</pre>\n"
      ],
      "text/plain": [
       "\u001b[1m{\u001b[0m\n",
       "    \u001b[32m'ids'\u001b[0m: \u001b[1m[\u001b[0m\u001b[1m[\u001b[0m\u001b[32m'8dca4a41f1ad65043a78c2338d9725f859c8d2c3'\u001b[0m, \u001b[32m'f999c0de05103ccd91b3efff282eaa1c0ea93015'\u001b[0m\u001b[1m]\u001b[0m\u001b[1m]\u001b[0m,\n",
       "    \u001b[32m'distances'\u001b[0m: \u001b[1m[\u001b[0m\u001b[1m[\u001b[0m\u001b[1;36m0.3685767650604248\u001b[0m, \u001b[1;36m0.37516769766807556\u001b[0m\u001b[1m]\u001b[0m\u001b[1m]\u001b[0m,\n",
       "    \u001b[32m'metadatas'\u001b[0m: \u001b[1m[\u001b[0m\u001b[1m[\u001b[0m\u001b[1m{\u001b[0m\u001b[32m'label'\u001b[0m: \u001b[32m'1'\u001b[0m\u001b[1m}\u001b[0m, \u001b[1m{\u001b[0m\u001b[32m'label'\u001b[0m: \u001b[32m'0'\u001b[0m\u001b[1m}\u001b[0m\u001b[1m]\u001b[0m\u001b[1m]\u001b[0m,\n",
       "    \u001b[32m'embeddings'\u001b[0m: \u001b[3;35mNone\u001b[0m,\n",
       "    \u001b[32m'documents'\u001b[0m: \u001b[1m[\u001b[0m\u001b[1m[\u001b[0m\u001b[3;35mNone\u001b[0m, \u001b[3;35mNone\u001b[0m\u001b[1m]\u001b[0m\u001b[1m]\u001b[0m\n",
       "\u001b[1m}\u001b[0m\n"
      ]
     },
     "metadata": {},
     "output_type": "display_data"
    }
   ],
   "source": [
    "client = chromadb.PersistentClient(path='db/text-embedding-ada-002 embedding/')\n",
    "collection = client.get_collection(\"text-embedding-ada-002_embedding\")\n",
    "\n",
    "pred_labels = []\n",
    "for index, row in openai_linux_test_df.iterrows():\n",
    "    query_result = collection.query(\n",
    "        query_embeddings=[ row['embedded_commit'] ],\n",
    "        n_results=2,\n",
    "    )\n",
    "    pred_labels.append(query_result['metadatas'][0][0]['label'])\n",
    "\n",
    "print(query_result)\n",
    "pred_labels = [int(x) for x in pred_labels]"
   ]
  },
  {
   "cell_type": "markdown",
   "metadata": {},
   "source": [
    "### Generate Metrics for (Linux CVEs)"
   ]
  },
  {
   "cell_type": "code",
   "execution_count": 38,
   "metadata": {},
   "outputs": [
    {
     "data": {
      "text/html": [
       "<pre style=\"white-space:pre;overflow-x:auto;line-height:normal;font-family:Menlo,'DejaVu Sans Mono',consolas,'Courier New',monospace\">\n",
       "\n",
       "&gt;&gt;&gt; Confusion Matrix: \n",
       "TP: <span style=\"color: #008080; text-decoration-color: #008080; font-weight: bold\">1688</span>, FP: <span style=\"color: #008080; text-decoration-color: #008080; font-weight: bold\">188</span> \n",
       "FN: <span style=\"color: #008080; text-decoration-color: #008080; font-weight: bold\">139</span>, TN: <span style=\"color: #008080; text-decoration-color: #008080; font-weight: bold\">315</span> \n",
       "\n",
       "&gt;&gt;&gt; Accuracy:  <span style=\"color: #008080; text-decoration-color: #008080; font-weight: bold\">0.859656652360515</span> \n",
       "\n",
       "&gt;&gt;&gt;: Classification Report:\n",
       "               precision    recall  f1-score   support\n",
       "\n",
       "  non-bugfix       <span style=\"color: #008080; text-decoration-color: #008080; font-weight: bold\">0.69</span>      <span style=\"color: #008080; text-decoration-color: #008080; font-weight: bold\">0.63</span>      <span style=\"color: #008080; text-decoration-color: #008080; font-weight: bold\">0.66</span>       <span style=\"color: #008080; text-decoration-color: #008080; font-weight: bold\">503</span>\n",
       "      bugfix       <span style=\"color: #008080; text-decoration-color: #008080; font-weight: bold\">0.90</span>      <span style=\"color: #008080; text-decoration-color: #008080; font-weight: bold\">0.92</span>      <span style=\"color: #008080; text-decoration-color: #008080; font-weight: bold\">0.91</span>      <span style=\"color: #008080; text-decoration-color: #008080; font-weight: bold\">1827</span>\n",
       "\n",
       "    accuracy                           <span style=\"color: #008080; text-decoration-color: #008080; font-weight: bold\">0.86</span>      <span style=\"color: #008080; text-decoration-color: #008080; font-weight: bold\">2330</span>\n",
       "   macro avg       <span style=\"color: #008080; text-decoration-color: #008080; font-weight: bold\">0.80</span>      <span style=\"color: #008080; text-decoration-color: #008080; font-weight: bold\">0.78</span>      <span style=\"color: #008080; text-decoration-color: #008080; font-weight: bold\">0.79</span>      <span style=\"color: #008080; text-decoration-color: #008080; font-weight: bold\">2330</span>\n",
       "weighted avg       <span style=\"color: #008080; text-decoration-color: #008080; font-weight: bold\">0.86</span>      <span style=\"color: #008080; text-decoration-color: #008080; font-weight: bold\">0.86</span>      <span style=\"color: #008080; text-decoration-color: #008080; font-weight: bold\">0.86</span>      <span style=\"color: #008080; text-decoration-color: #008080; font-weight: bold\">2330</span>\n",
       "\n",
       "</pre>\n"
      ],
      "text/plain": [
       "\n",
       "\n",
       ">>> Confusion Matrix: \n",
       "TP: \u001b[1;36m1688\u001b[0m, FP: \u001b[1;36m188\u001b[0m \n",
       "FN: \u001b[1;36m139\u001b[0m, TN: \u001b[1;36m315\u001b[0m \n",
       "\n",
       ">>> Accuracy:  \u001b[1;36m0.859656652360515\u001b[0m \n",
       "\n",
       ">>>: Classification Report:\n",
       "               precision    recall  f1-score   support\n",
       "\n",
       "  non-bugfix       \u001b[1;36m0.69\u001b[0m      \u001b[1;36m0.63\u001b[0m      \u001b[1;36m0.66\u001b[0m       \u001b[1;36m503\u001b[0m\n",
       "      bugfix       \u001b[1;36m0.90\u001b[0m      \u001b[1;36m0.92\u001b[0m      \u001b[1;36m0.91\u001b[0m      \u001b[1;36m1827\u001b[0m\n",
       "\n",
       "    accuracy                           \u001b[1;36m0.86\u001b[0m      \u001b[1;36m2330\u001b[0m\n",
       "   macro avg       \u001b[1;36m0.80\u001b[0m      \u001b[1;36m0.78\u001b[0m      \u001b[1;36m0.79\u001b[0m      \u001b[1;36m2330\u001b[0m\n",
       "weighted avg       \u001b[1;36m0.86\u001b[0m      \u001b[1;36m0.86\u001b[0m      \u001b[1;36m0.86\u001b[0m      \u001b[1;36m2330\u001b[0m\n",
       "\n"
      ]
     },
     "metadata": {},
     "output_type": "display_data"
    }
   ],
   "source": [
    "test_labels = openai_linux_test_df['labels'].tolist()\n",
    "report = classification_report(test_labels,pred_labels,target_names=[\"non-bugfix\", \"bugfix\"],)\n",
    "confusion_matrix_metric = confusion_matrix(test_labels,pred_labels)\n",
    "accuracy_metric = accuracy_score(test_labels, pred_labels)\n",
    "print(  \"\\n\\n>>> Confusion Matrix:\",\n",
    "  f\"\\nTP: {confusion_matrix_metric[1][1]}, FP: {confusion_matrix_metric[0][1]}\",\n",
    "  f\"\\nFN: {confusion_matrix_metric[1][0]}, TN: {confusion_matrix_metric[0][0]}\",\n",
    "  \"\\n\\n>>> Accuracy: \",\n",
    "  accuracy_metric,\n",
    "  \"\\n\\n>>>: Classification Report:\\n\",\n",
    "  report)"
   ]
  }
 ],
 "metadata": {
  "kernelspec": {
   "display_name": "venv",
   "language": "python",
   "name": "python3"
  },
  "language_info": {
   "codemirror_mode": {
    "name": "ipython",
    "version": 3
   },
   "file_extension": ".py",
   "mimetype": "text/x-python",
   "name": "python",
   "nbconvert_exporter": "python",
   "pygments_lexer": "ipython3",
   "version": "3.10.0"
  },
  "orig_nbformat": 4
 },
 "nbformat": 4,
 "nbformat_minor": 2
}
